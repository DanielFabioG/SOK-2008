{
 "cells": [
  {
   "cell_type": "code",
   "execution_count": 20,
   "metadata": {},
   "outputs": [],
   "source": [
    "# Kode til utf 3\n",
    "import numpy as np\n",
    "import sympy as sp\n",
    "import matplotlib.pyplot as plt\n",
    "\n",
    "# Definerer symboler\n",
    "c, theta, l, wr,l0, U = sp.symbols('c theta l w^r l^0 U', real=True)\n",
    "\n",
    "nytte = sp.Eq(U,c**theta*l**(1-theta))\n",
    "\n",
    "nytte_func = sp.solve(nytte, c)[0]"
   ]
  },
  {
   "cell_type": "code",
   "execution_count": 21,
   "metadata": {},
   "outputs": [
    {
     "data": {
      "text/latex": [
       "$\\displaystyle \\left(U l^{\\theta - 1}\\right)^{\\frac{1}{\\theta}}$"
      ],
      "text/plain": [
       "(U*l**(theta - 1))**(1/theta)"
      ]
     },
     "execution_count": 21,
     "metadata": {},
     "output_type": "execute_result"
    }
   ],
   "source": [
    "nytte_func"
   ]
  },
  {
   "cell_type": "code",
   "execution_count": 22,
   "metadata": {},
   "outputs": [],
   "source": [
    "# Vi ønsker å maksimere nyttefunksjonen gitt ved bibetingelsen så vi formulerer lagrange\n",
    "#bibetingelse 700 - 10l - c\n",
    "\n",
    "#L(c,l,bibetingelse) = c**theta*l**theta + lambda-(700-10l-c)\n",
    "\n"
   ]
  },
  {
   "cell_type": "code",
   "execution_count": null,
   "metadata": {},
   "outputs": [],
   "source": [
    "# Førsteordensbetingelser \n",
    "\n",
    "#Dl/dc = 5/7 *c**-2.7*l**2/7    - lamba = 0\n",
    "\n",
    "#dL/dl = 2/7*c**5/7*l**3/7 - 10lambda = 0\n",
    "\n",
    "#dL/dlamba = 700 - 10l - c = 0"
   ]
  },
  {
   "cell_type": "code",
   "execution_count": 23,
   "metadata": {},
   "outputs": [],
   "source": [
    "# Løser likningssystemet\n",
    "# 5 /7*c**-2/7l2/7 = lambda\n",
    "# 2/7*c**5/7-5/7 = 10lambda\n"
   ]
  },
  {
   "cell_type": "code",
   "execution_count": null,
   "metadata": {},
   "outputs": [],
   "source": [
    "# Vi kan nå dele (kryssmultiplisere) den første likning med den andre. vi får:\n",
    "\n",
    "# 5/7*7/2*c**-2/7-5/7l**2/7+5/7 = 1/10\n",
    "\n",
    "# 5/2c**-1*l**1 = 1/10\n",
    "\n",
    "# 5l/2c = 1/10\n",
    "\n",
    "#50l = 2c => c = 25l\n",
    "\n",
    "# Vi setter dette i budsjettbetingelsen for c\n",
    "\n",
    "# 25l = 700 - 10l\n",
    "\n",
    "# l= 20\n",
    "\n",
    "# Vi får dette inn for l i c = 25l og får c = 500\n",
    "\n",
    "# Gertrud kan maksimalt jobbe 60 timer per uke l0 = 60. arbeidstiden som maksimerer nytte er da 60-20 = 40 timer."
   ]
  },
  {
   "cell_type": "code",
   "execution_count": null,
   "metadata": {},
   "outputs": [],
   "source": [
    "# c-c1 = l -l0\n",
    "\n"
   ]
  }
 ],
 "metadata": {
  "kernelspec": {
   "display_name": "Python 3",
   "language": "python",
   "name": "python3"
  },
  "language_info": {
   "codemirror_mode": {
    "name": "ipython",
    "version": 3
   },
   "file_extension": ".py",
   "mimetype": "text/x-python",
   "name": "python",
   "nbconvert_exporter": "python",
   "pygments_lexer": "ipython3",
   "version": "3.11.2"
  }
 },
 "nbformat": 4,
 "nbformat_minor": 2
}
