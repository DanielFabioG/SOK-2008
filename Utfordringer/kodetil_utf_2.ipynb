{
 "cells": [
  {
   "cell_type": "code",
   "execution_count": 1,
   "metadata": {},
   "outputs": [],
   "source": [
    "import numpy as np\n",
    "import sympy as sp\n",
    "import matplotlib.pyplot as plt"
   ]
  },
  {
   "cell_type": "code",
   "execution_count": 32,
   "metadata": {},
   "outputs": [],
   "source": [
    "# Definerer symboler\n",
    "bta, E, alpha, T, w, L = sp.symbols('beta E alpha T w L')"
   ]
  },
  {
   "cell_type": "code",
   "execution_count": 37,
   "metadata": {},
   "outputs": [
    {
     "data": {
      "text/latex": [
       "$\\displaystyle \\frac{E}{\\alpha} - \\frac{w}{\\alpha}$"
      ],
      "text/plain": [
       "E/alpha - w/alpha"
      ]
     },
     "execution_count": 37,
     "metadata": {},
     "output_type": "execute_result"
    }
   ],
   "source": [
    "# Utledning matematisk av minstelønn under fullkomment arbeidsmarked og under monopsoni\n",
    "\n",
    "# Etterspørsel på arbeid, hva skjer med L\n",
    "def L_D(E,alpha,w):\n",
    "    return (E/alpha)-(1/alpha)*w\n",
    "\n",
    "# Tilbud av arbeid, hvor er L lmao\n",
    "def L_S(T,bta,w):\n",
    "    return -(T/bta)+(1/bta)*w\n",
    "\n",
    "L_D(E,alpha,w)"
   ]
  },
  {
   "cell_type": "code",
   "execution_count": 38,
   "metadata": {},
   "outputs": [
    {
     "data": {
      "text/latex": [
       "$\\displaystyle - \\frac{T}{\\beta} + \\frac{w}{\\beta}$"
      ],
      "text/plain": [
       "-T/beta + w/beta"
      ]
     },
     "execution_count": 38,
     "metadata": {},
     "output_type": "execute_result"
    }
   ],
   "source": [
    "L_S(T,bta,w)"
   ]
  },
  {
   "cell_type": "code",
   "execution_count": 41,
   "metadata": {},
   "outputs": [
    {
     "data": {
      "text/latex": [
       "$\\displaystyle \\frac{E}{\\alpha} - \\frac{w}{\\alpha} = - \\frac{T}{\\beta} + \\frac{w}{\\beta}$"
      ],
      "text/plain": [
       "Eq(E/alpha - w/alpha, -T/beta + w/beta)"
      ]
     },
     "execution_count": 41,
     "metadata": {},
     "output_type": "execute_result"
    }
   ],
   "source": [
    "# betingelse for likevekt\n",
    "eq_cond=sp.Eq(L_D(E,alpha,w),L_S(T,bta,w))\n",
    "eq_cond"
   ]
  },
  {
   "cell_type": "code",
   "execution_count": 42,
   "metadata": {},
   "outputs": [
    {
     "data": {
      "text/latex": [
       "$\\displaystyle \\frac{E \\beta + T \\alpha}{\\alpha + \\beta}$"
      ],
      "text/plain": [
       "(E*beta + T*alpha)/(alpha + beta)"
      ]
     },
     "execution_count": 42,
     "metadata": {},
     "output_type": "execute_result"
    }
   ],
   "source": [
    "# løs for w\n",
    "p_eq=sp.solve(eq_cond,w)\n",
    "p_eq[0]"
   ]
  },
  {
   "cell_type": "code",
   "execution_count": 44,
   "metadata": {},
   "outputs": [
    {
     "data": {
      "text/latex": [
       "$\\displaystyle - \\frac{T}{\\beta} + \\frac{E \\beta + T \\alpha}{\\beta \\left(\\alpha + \\beta\\right)}$"
      ],
      "text/plain": [
       "-T/beta + (E*beta + T*alpha)/(beta*(alpha + beta))"
      ]
     },
     "execution_count": 44,
     "metadata": {},
     "output_type": "execute_result"
    }
   ],
   "source": [
    "# finn tilsvarende kvantum\n",
    "x_eq=L_S(T,bta,p_eq[0])\n",
    "x_eq"
   ]
  },
  {
   "cell_type": "code",
   "execution_count": 47,
   "metadata": {},
   "outputs": [],
   "source": [
    "L = np.linspace(0, 550, 551)\n",
    "\n",
    "def demand(E,a,L):\n",
    "    return E-a*L\n",
    "\n",
    "def supply(T,b,L):\n",
    "    return T-b*L\n"
   ]
  },
  {
   "cell_type": "code",
   "execution_count": null,
   "metadata": {},
   "outputs": [],
   "source": []
  }
 ],
 "metadata": {
  "kernelspec": {
   "display_name": "Python 3",
   "language": "python",
   "name": "python3"
  },
  "language_info": {
   "codemirror_mode": {
    "name": "ipython",
    "version": 3
   },
   "file_extension": ".py",
   "mimetype": "text/x-python",
   "name": "python",
   "nbconvert_exporter": "python",
   "pygments_lexer": "ipython3",
   "version": "3.11.2"
  }
 },
 "nbformat": 4,
 "nbformat_minor": 2
}
